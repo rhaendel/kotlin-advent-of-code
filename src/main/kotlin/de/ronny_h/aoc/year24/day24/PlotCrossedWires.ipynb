{
 "cells": [
  {
   "metadata": {},
   "cell_type": "markdown",
   "source": [
    "# Plot CrossedWires\n",
    "\n",
    "This Kotlin Notebook uses the `CrossedWires` implementation from the main source set and writes the original input's wiring to a \".dot\" file, `wiredGates.dot`. That file can be rendered using GraphViz (DOT, https://graphviz.org)."
   ]
  },
  {
   "metadata": {},
   "cell_type": "markdown",
   "source": "First, read and parse the input for lists of `Gate`s and `Wire`s."
  },
  {
   "metadata": {
    "ExecuteTime": {
     "end_time": "2025-06-19T17:22:44.247196600Z",
     "start_time": "2025-06-19T17:22:44.089978900Z"
    }
   },
   "cell_type": "code",
   "source": [
    "import de.ronny_h.aoc.AdventOfCode\n",
    "import de.ronny_h.aoc.year24.day24.CrossedWires\n",
    "\n",
    "val crossedWires = CrossedWires()\n",
    "val input = crossedWires.readInput()\n",
    "val gates = crossedWires.parseGates(input)\n",
    "val wires = crossedWires.parseWires(input)"
   ],
   "outputs": [],
   "execution_count": 1
  },
  {
   "metadata": {},
   "cell_type": "markdown",
   "source": "Add IDs to the Gates and Wires and construct some maps for fast lookup."
  },
  {
   "metadata": {
    "ExecuteTime": {
     "end_time": "2025-06-19T17:22:45.214580900Z",
     "start_time": "2025-06-19T17:22:44.256858700Z"
    }
   },
   "cell_type": "code",
   "source": [
    "data class GateWithId(val id: String, val in1: String, val in2: String, val op: String, val out: String)\n",
    "data class WireWithId(val id: String, val name: String)\n",
    "\n",
    "val gatesWithId = gates.mapIndexed { i, g -> GateWithId(\"$i\", g.in1, g.in2, g.operation.toString(), g.out) }\n",
    "val wiresWithId = wires.mapIndexed { i, w -> WireWithId(\"${i + gates.size}\", w.name) }\n",
    "val gatesById = gatesWithId.associateBy { it.id }\n",
    "val wiresById = wiresWithId.associateBy { it.id }\n",
    "val gatesOutLookup = gatesWithId.associateBy { it.out }\n",
    "val gatesInLookup = gatesWithId.fold(emptyMap<String, GateWithId>()) { acc, gate ->\n",
    "    (acc + (gate.in1 to gate)) + (gate.in2 to gate)\n",
    "}\n",
    "val wiresLookup = wiresWithId.associateBy { it.name }"
   ],
   "outputs": [],
   "execution_count": 2
  },
  {
   "metadata": {},
   "cell_type": "markdown",
   "source": [
    "Construct a pair of lists so that for each index `i` in both lists there is a wiring from `first[i]` to `second[i]`.\n",
    "\n",
    "`first` is a list of IDs of input wires or gates, `second` is a list of IDs of gates or output wires."
   ]
  },
  {
   "metadata": {
    "ExecuteTime": {
     "end_time": "2025-06-19T17:22:45.565090Z",
     "start_time": "2025-06-19T17:22:45.223580300Z"
    }
   },
   "cell_type": "code",
   "source": [
    "fun wireTheGates(): Pair<List<String>, List<String>> {\n",
    "    val from = mutableListOf<String>()\n",
    "    val to = mutableListOf<String>()\n",
    "\n",
    "    fun wireInput(gateId: String, inWireName: String) {\n",
    "        val inGate = gatesOutLookup.get(inWireName)\n",
    "        if (inGate == null) {\n",
    "            // in is a wire\n",
    "            from.add(wiresLookup.getValue(inWireName).id)\n",
    "        } else {\n",
    "            // in is another gate\n",
    "            from.add(inGate.id)\n",
    "        }\n",
    "        to.add(gateId)\n",
    "    }\n",
    "\n",
    "    fun wireOutput(gateId: String, outWireName: String) {\n",
    "        if (gatesInLookup.get(outWireName) == null) {\n",
    "            // output is a wire; other gates are handled via wireInput()\n",
    "            from.add(gateId)\n",
    "            to.add(outWireName)\n",
    "        }\n",
    "    }\n",
    "\n",
    "    for (g in gatesWithId) {\n",
    "        wireInput(g.id, g.in1)\n",
    "        wireInput(g.id, g.in2)\n",
    "        wireOutput(g.id, g.out)\n",
    "        check(from.size == to.size) { \"different sizes: from: '$from', to: $to\" }\n",
    "    }\n",
    "    return from to to\n",
    "}\n",
    "\n",
    "val wiredGateIds = wireTheGates()"
   ],
   "outputs": [],
   "execution_count": 3
  },
  {
   "metadata": {},
   "cell_type": "markdown",
   "source": "Write the data to a .dot file that can be interpreted by Graphviz."
  },
  {
   "metadata": {
    "ExecuteTime": {
     "end_time": "2025-06-19T17:22:46.433761400Z",
     "start_time": "2025-06-19T17:22:45.580090500Z"
    }
   },
   "cell_type": "code",
   "source": [
    "import java.io.File\n",
    "\n",
    "File(\"wiredGates.dot\").printWriter().use { out ->\n",
    "    out.println(\"digraph {\")\n",
    "    out.println(\"  edge [fontname=Arial fontsize=9 arrowhead=vee arrowsize=0.6]\")\n",
    "    out.println(\"  node [fontname=Arial shape=plain]\")\n",
    "    val gatesCount = gatesWithId.size\n",
    "    val outWires = gatesWithId.filter { gatesInLookup[it.out] == null }.map { it.out }\n",
    "    val inXColor = \"\\\"#4A88D4\\\"\"\n",
    "    val inYColor = \"\\\"#784AD4\\\"\"\n",
    "    val outZColor = \"\\\"#48B540\\\"\"\n",
    "\n",
    "    wiresWithId.forEach { wire ->\n",
    "        val color = when {\n",
    "            wire.name.startsWith(\"x\") -> inXColor\n",
    "            wire.name.startsWith(\"y\") -> inYColor\n",
    "            wire.name.startsWith(\"z\") -> outZColor\n",
    "            else -> \"grey\"\n",
    "        }\n",
    "        out.println(\"  ${wire.id} [label=${wire.name} fontcolor=$color color=$color]\")\n",
    "    }\n",
    "    outWires.forEach {\n",
    "        out.println(\"  ${it} [label=${it} fontcolor=$outZColor color=$outZColor]\")\n",
    "    }\n",
    "    gatesWithId.forEach { gate ->\n",
    "        out.println(\"  ${gate.id} [label=\\\"${gate.op}\\\"]\")\n",
    "    }\n",
    "\n",
    "    wiredGateIds.first.forEachIndexed { i, fromId ->\n",
    "        val toId = wiredGateIds.second[i]\n",
    "        val fromGate = gatesById[fromId]\n",
    "        val attributes = if (fromGate != null) {\n",
    "            if (fromGate.out.startsWith(\"z\")) {\n",
    "                \" [color=$outZColor]\"\n",
    "            } else {\n",
    "                // the \"from\" and \"to\" nodes are gates -> label their connection\n",
    "                \" [label=${fromGate.out}]\"\n",
    "            }\n",
    "        } else {\n",
    "            // the \"from\" node is an input\n",
    "            if (wiresById.getValue(fromId).name.startsWith(\"x\")) {\n",
    "                \" [color=$inXColor]\"\n",
    "            } else {\n",
    "                \" [color=$inYColor]\"\n",
    "            }\n",
    "        }\n",
    "        out.println(\"  $fromId -> $toId$attributes\")\n",
    "    }\n",
    "\n",
    "    out.println(\"}\")\n",
    "}"
   ],
   "outputs": [],
   "execution_count": 4
  },
  {
   "metadata": {},
   "cell_type": "markdown",
   "source": [
    "The graph can be generated by calling\n",
    "\n",
    "```bash\n",
    "dot wiredGates.dot -Tsvg -o wiredGates.svg\n",
    "```\n",
    "\n",
    "It looks like this:\n",
    "\n",
    "![A Graph showing the wired gates with inputs and outputs](./wiredGates.svg)"
   ]
  }
 ],
 "metadata": {
  "kernelspec": {
   "display_name": "Kotlin",
   "language": "kotlin",
   "name": "kotlin"
  },
  "language_info": {
   "name": "kotlin",
   "version": "1.9.23",
   "mimetype": "text/x-kotlin",
   "file_extension": ".kt",
   "pygments_lexer": "kotlin",
   "codemirror_mode": "text/x-kotlin",
   "nbconvert_exporter": ""
  },
  "ktnbPluginMetadata": {
   "projectLibraries": false,
   "projectDependencies": [
    "kotlin-advent-of-code-2024.main"
   ]
  }
 },
 "nbformat": 4,
 "nbformat_minor": 0
}
